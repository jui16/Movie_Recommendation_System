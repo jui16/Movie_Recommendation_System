{
  "nbformat": 4,
  "nbformat_minor": 0,
  "metadata": {
    "colab": {
      "name": "Movie Recommendation System",
      "provenance": [],
      "collapsed_sections": [],
      "authorship_tag": "ABX9TyNhx+KgIsrw8m5MZg2AA0La",
      "include_colab_link": true
    },
    "kernelspec": {
      "display_name": "Python 3",
      "name": "python3"
    },
    "language_info": {
      "name": "python"
    }
  },
  "cells": [
    {
      "cell_type": "markdown",
      "metadata": {
        "id": "view-in-github",
        "colab_type": "text"
      },
      "source": [
        "<a href=\"https://colab.research.google.com/github/jui16/Movie_Recommendation_System/blob/main/Movie_Recommendation_System.ipynb\" target=\"_parent\"><img src=\"https://colab.research.google.com/assets/colab-badge.svg\" alt=\"Open In Colab\"/></a>"
      ]
    },
    {
      "cell_type": "code",
      "metadata": {
        "id": "qbFlSBGgXSiw"
      },
      "source": [
        "import pandas as pd\n",
        "import numpy as np\n",
        "from google.colab import files\n",
        "from scipy import sparse\n"
      ],
      "execution_count": null,
      "outputs": []
    },
    {
      "cell_type": "code",
      "metadata": {
        "id": "roc6pxrGeOZP"
      },
      "source": [
        "movie = pd.read_csv('/content/movie.csv')\n",
        "rating = pd.read_csv('/content/rating.csv')\n"
      ],
      "execution_count": null,
      "outputs": []
    },
    {
      "cell_type": "code",
      "metadata": {
        "id": "wbtChZyjZZQn",
        "colab": {
          "base_uri": "https://localhost:8080/"
        },
        "outputId": "03855dcc-d08a-4b1e-887b-8b6ca282df60"
      },
      "source": [
        "data = pd.merge(rating, movie).drop(['genres','timestamp'], axis=1)\n",
        "#data = pd.merge(rating, movie)\n",
        "user_ratings = data.pivot_table(index=['userId'], columns=['title'], values='rating')\n",
        "print(user_ratings.head())\n",
        "#data.head()\n"
      ],
      "execution_count": null,
      "outputs": [
        {
          "output_type": "stream",
          "name": "stdout",
          "text": [
            "title   'Hellboy': The Seeds of Creation (2004)  ...  À nous la liberté (Freedom for Us) (1931)\n",
            "userId                                           ...                                           \n",
            "1                                           NaN  ...                                        NaN\n",
            "2                                           NaN  ...                                        NaN\n",
            "3                                           NaN  ...                                        NaN\n",
            "4                                           NaN  ...                                        NaN\n",
            "5                                           NaN  ...                                        NaN\n",
            "\n",
            "[5 rows x 10101 columns]\n"
          ]
        }
      ]
    },
    {
      "cell_type": "code",
      "metadata": {
        "id": "U8_cWLMXkmH_",
        "colab": {
          "base_uri": "https://localhost:8080/"
        },
        "outputId": "f41b35b7-f0f5-46fc-a7dc-e3086595d3b5"
      },
      "source": [
        "user_ratings = user_ratings.dropna(thresh=10, axis=1).fillna(0)\n",
        "print(user_ratings.head())"
      ],
      "execution_count": null,
      "outputs": [
        {
          "output_type": "stream",
          "name": "stdout",
          "text": [
            "title   'burbs, The (1989)  ...  ¡Three Amigos! (1986)\n",
            "userId                      ...                       \n",
            "1                      0.0  ...                    0.0\n",
            "2                      0.0  ...                    0.0\n",
            "3                      0.0  ...                    0.0\n",
            "4                      0.0  ...                    0.0\n",
            "5                      0.0  ...                    0.0\n",
            "\n",
            "[5 rows x 3315 columns]\n"
          ]
        }
      ]
    },
    {
      "cell_type": "code",
      "metadata": {
        "id": "R_QAWaPKk5BN",
        "colab": {
          "base_uri": "https://localhost:8080/"
        },
        "outputId": "cfc84952-4d00-4b5a-aead-27d824d3d774"
      },
      "source": [
        "item_similarity_df = user_ratings.corr(method='pearson')\n",
        "print(item_similarity_df)"
      ],
      "execution_count": null,
      "outputs": [
        {
          "output_type": "stream",
          "name": "stdout",
          "text": [
            "title                              'burbs, The (1989)  ...  ¡Three Amigos! (1986)\n",
            "title                                                  ...                       \n",
            "'burbs, The (1989)                           1.000000  ...               0.302252\n",
            "(500) Days of Summer (2009)                 -0.001316  ...              -0.011487\n",
            "*batteries not included (1987)               0.039103  ...               0.123925\n",
            "...And Justice for All (1979)                0.213615  ...               0.109462\n",
            "10 Things I Hate About You (1999)            0.110828  ...               0.067284\n",
            "...                                               ...  ...                    ...\n",
            "Zombieland (2009)                           -0.000517  ...               0.091092\n",
            "Zoolander (2001)                             0.123778  ...               0.232520\n",
            "eXistenZ (1999)                              0.114554  ...               0.066397\n",
            "xXx (2002)                                   0.038605  ...               0.074652\n",
            "¡Three Amigos! (1986)                        0.302252  ...               1.000000\n",
            "\n",
            "[3315 rows x 3315 columns]\n"
          ]
        }
      ]
    },
    {
      "cell_type": "code",
      "metadata": {
        "id": "518EN8wLlf4c",
        "colab": {
          "base_uri": "https://localhost:8080/"
        },
        "outputId": "39e21705-843b-4d11-9141-a96a0e7b6b40"
      },
      "source": [
        "def get_similar_movies(movie_name, user_rating):\n",
        "  similarity_score = item_similarity_df[movie_name]*(user_rating-2.5)\n",
        "  similarity_score = similarity_score.sort_values(ascending=False)\n",
        "  print(\"****************************************************************************\")\n",
        "  print(\"           Movies matching your interest:\")\n",
        "  print(\"****************************************************************************\")\n",
        "  return similarity_score\n",
        "  #return item_similarity_df['title']\n",
        "#print(get_similar_movies(\"(500) Days of Summer (2009)\", 4))  \n",
        "print(\"****************************************************************************\")\n",
        "print(\"           MOVIE RECOMMENDATION SYSTEM\")\n",
        "print(\"           Get your perfect match!\")\n",
        "print(\"****************************************************************************\")\n",
        "print(\"Enter name of the movie you watched already? ex. Zoolander (2001)\")\n",
        "movie_name = input()\n",
        "user_rating = int(input(\"How much would you rate that movie out of 5?\"))\n",
        "get_similar_movies(movie_name, user_rating)\n"
      ],
      "execution_count": null,
      "outputs": [
        {
          "output_type": "stream",
          "name": "stdout",
          "text": [
            "****************************************************************************\n",
            "           MOVIE RECOMMENDATION SYSTEM\n",
            "           Get your perfect match!\n",
            "****************************************************************************\n",
            "Enter name of the movie you watched already? ex. Zoolander (2001)\n",
            "Zoolander (2001)\n",
            "How much would you rate that movie out of 5?4\n",
            "****************************************************************************\n",
            "           Movies matching your interest:\n",
            "****************************************************************************\n"
          ]
        },
        {
          "output_type": "execute_result",
          "data": {
            "text/plain": [
              "title\n",
              "Zoolander (2001)                                       1.500000\n",
              "Men in Black II (a.k.a. MIIB) (a.k.a. MIB 2) (2002)    0.618983\n",
              "Collateral Damage (2002)                               0.555844\n",
              "Dodgeball: A True Underdog Story (2004)                0.548559\n",
              "Swordfish (2001)                                       0.542992\n",
              "                                                         ...   \n",
              "400 Blows, The (Les quatre cents coups) (1959)        -0.044785\n",
              "Midnight in Paris (2011)                              -0.045854\n",
              "Jade (1995)                                           -0.046126\n",
              "Milk Money (1994)                                     -0.056965\n",
              "Lives of Others, The (Das leben der Anderen) (2006)   -0.064828\n",
              "Name: Zoolander (2001), Length: 3315, dtype: float64"
            ]
          },
          "metadata": {},
          "execution_count": 6
        }
      ]
    },
    {
      "cell_type": "code",
      "metadata": {
        "id": "U7zkoclXpcqF",
        "colab": {
          "base_uri": "https://localhost:8080/"
        },
        "outputId": "219c5ee9-05b3-4a1a-b9a0-bb6e83b8da92"
      },
      "source": [
        "print(\"****************************************************************************\")\n",
        "print(\"           Thankyou! Visit Again:)\")\n",
        "print(\"****************************************************************************\")"
      ],
      "execution_count": null,
      "outputs": [
        {
          "output_type": "stream",
          "name": "stdout",
          "text": [
            "****************************************************************************\n",
            "           Thankyou! Visit Again:)\n",
            "****************************************************************************\n"
          ]
        }
      ]
    }
  ]
}